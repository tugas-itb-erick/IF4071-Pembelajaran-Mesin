{
 "cells": [
  {
   "cell_type": "markdown",
   "metadata": {},
   "source": [
    "### IF4091 Pembelajaran Mesin\n",
    "## Tugas Besar II: Feed Forward Neural Network\n",
    "**Anggota Kelompok:**\n",
    "1. **13515021 - Dewita Sonya T**\n",
    "2. **13515057 - Erick Wijaya**\n",
    "3. **13515063 - Kezia Suhendra**\n",
    "\n",
    "**Kelas: K01**"
   ]
  },
  {
   "cell_type": "markdown",
   "metadata": {},
   "source": [
    "# Import Statement"
   ]
  },
  {
   "cell_type": "code",
   "execution_count": 49,
   "metadata": {},
   "outputs": [],
   "source": [
    "from copy import deepcopy\n",
    "from tensorflow.keras import optimizers\n",
    "from tensorflow.keras.layers import Dense, Activation\n",
    "from tensorflow.keras.models import Sequential\n",
    "\n",
    "import tensorflow.keras as keras\n",
    "import numpy as np\n",
    "import pandas as pd"
   ]
  },
  {
   "cell_type": "markdown",
   "metadata": {},
   "source": [
    "# Preprocessing Functions"
   ]
  },
  {
   "cell_type": "code",
   "execution_count": 50,
   "metadata": {},
   "outputs": [],
   "source": [
    "def onehot_encode(df, colname):\n",
    "    uniques = np.unique(df[colname]).tolist()\n",
    "    dict_cols = {key: np.zeros((df.shape[0],), dtype=int) for key in uniques}\n",
    "    for i, row in df.iterrows():\n",
    "        for key in dict_cols:\n",
    "            if row[colname] == key:\n",
    "                dict_cols[key][i] = 1\n",
    "                break\n",
    "    for key, val in dict_cols.items():\n",
    "        df[\"_\" + key] = val\n",
    "    return df, list(dict_cols.keys())\n",
    "\n",
    "def label_encode(df, colname):\n",
    "    uniques = np.unique(df[colname]).tolist()\n",
    "    dict_unique = {key: i for i, key in enumerate(uniques)}\n",
    "    rows = [dict_unique[row[colname]] for _, row in df.iterrows()]\n",
    "    df[\"_\" + colname] = np.array(rows)\n",
    "    return df, dict_unique\n",
    "\n",
    "def zscore_encode(df, colname):\n",
    "    mean = np.mean(df[colname])\n",
    "    std = np.std(df[colname])\n",
    "    df[\"z_\" + colname] = np.array([(row[colname]-mean)/std for _, row in df.iterrows()])\n",
    "    return df, mean, std"
   ]
  },
  {
   "cell_type": "markdown",
   "metadata": {},
   "source": [
    "# Preprocess"
   ]
  },
  {
   "cell_type": "code",
   "execution_count": 88,
   "metadata": {
    "scrolled": false
   },
   "outputs": [
    {
     "name": "stdout",
     "output_type": "stream",
     "text": [
      "Raw:\n"
     ]
    },
    {
     "data": {
      "text/html": [
       "<div>\n",
       "<style scoped>\n",
       "    .dataframe tbody tr th:only-of-type {\n",
       "        vertical-align: middle;\n",
       "    }\n",
       "\n",
       "    .dataframe tbody tr th {\n",
       "        vertical-align: top;\n",
       "    }\n",
       "\n",
       "    .dataframe thead th {\n",
       "        text-align: right;\n",
       "    }\n",
       "</style>\n",
       "<table border=\"1\" class=\"dataframe\">\n",
       "  <thead>\n",
       "    <tr style=\"text-align: right;\">\n",
       "      <th></th>\n",
       "      <th>outlook</th>\n",
       "      <th>temperature</th>\n",
       "      <th>humidity</th>\n",
       "      <th>windy</th>\n",
       "      <th>play</th>\n",
       "    </tr>\n",
       "  </thead>\n",
       "  <tbody>\n",
       "    <tr>\n",
       "      <th>0</th>\n",
       "      <td>sunny</td>\n",
       "      <td>85</td>\n",
       "      <td>85</td>\n",
       "      <td>False</td>\n",
       "      <td>no</td>\n",
       "    </tr>\n",
       "    <tr>\n",
       "      <th>1</th>\n",
       "      <td>sunny</td>\n",
       "      <td>80</td>\n",
       "      <td>90</td>\n",
       "      <td>True</td>\n",
       "      <td>no</td>\n",
       "    </tr>\n",
       "    <tr>\n",
       "      <th>2</th>\n",
       "      <td>overcast</td>\n",
       "      <td>83</td>\n",
       "      <td>86</td>\n",
       "      <td>False</td>\n",
       "      <td>yes</td>\n",
       "    </tr>\n",
       "    <tr>\n",
       "      <th>3</th>\n",
       "      <td>rainy</td>\n",
       "      <td>70</td>\n",
       "      <td>96</td>\n",
       "      <td>False</td>\n",
       "      <td>yes</td>\n",
       "    </tr>\n",
       "    <tr>\n",
       "      <th>4</th>\n",
       "      <td>rainy</td>\n",
       "      <td>68</td>\n",
       "      <td>80</td>\n",
       "      <td>False</td>\n",
       "      <td>yes</td>\n",
       "    </tr>\n",
       "    <tr>\n",
       "      <th>5</th>\n",
       "      <td>rainy</td>\n",
       "      <td>65</td>\n",
       "      <td>70</td>\n",
       "      <td>True</td>\n",
       "      <td>no</td>\n",
       "    </tr>\n",
       "    <tr>\n",
       "      <th>6</th>\n",
       "      <td>overcast</td>\n",
       "      <td>64</td>\n",
       "      <td>65</td>\n",
       "      <td>True</td>\n",
       "      <td>yes</td>\n",
       "    </tr>\n",
       "    <tr>\n",
       "      <th>7</th>\n",
       "      <td>sunny</td>\n",
       "      <td>72</td>\n",
       "      <td>95</td>\n",
       "      <td>False</td>\n",
       "      <td>no</td>\n",
       "    </tr>\n",
       "    <tr>\n",
       "      <th>8</th>\n",
       "      <td>sunny</td>\n",
       "      <td>69</td>\n",
       "      <td>70</td>\n",
       "      <td>False</td>\n",
       "      <td>yes</td>\n",
       "    </tr>\n",
       "    <tr>\n",
       "      <th>9</th>\n",
       "      <td>rainy</td>\n",
       "      <td>75</td>\n",
       "      <td>80</td>\n",
       "      <td>False</td>\n",
       "      <td>yes</td>\n",
       "    </tr>\n",
       "    <tr>\n",
       "      <th>10</th>\n",
       "      <td>sunny</td>\n",
       "      <td>75</td>\n",
       "      <td>70</td>\n",
       "      <td>True</td>\n",
       "      <td>yes</td>\n",
       "    </tr>\n",
       "    <tr>\n",
       "      <th>11</th>\n",
       "      <td>overcast</td>\n",
       "      <td>72</td>\n",
       "      <td>90</td>\n",
       "      <td>True</td>\n",
       "      <td>yes</td>\n",
       "    </tr>\n",
       "    <tr>\n",
       "      <th>12</th>\n",
       "      <td>overcast</td>\n",
       "      <td>81</td>\n",
       "      <td>75</td>\n",
       "      <td>False</td>\n",
       "      <td>yes</td>\n",
       "    </tr>\n",
       "    <tr>\n",
       "      <th>13</th>\n",
       "      <td>rainy</td>\n",
       "      <td>71</td>\n",
       "      <td>91</td>\n",
       "      <td>True</td>\n",
       "      <td>no</td>\n",
       "    </tr>\n",
       "  </tbody>\n",
       "</table>\n",
       "</div>"
      ],
      "text/plain": [
       "     outlook  temperature  humidity  windy play\n",
       "0      sunny           85        85  False   no\n",
       "1      sunny           80        90   True   no\n",
       "2   overcast           83        86  False  yes\n",
       "3      rainy           70        96  False  yes\n",
       "4      rainy           68        80  False  yes\n",
       "5      rainy           65        70   True   no\n",
       "6   overcast           64        65   True  yes\n",
       "7      sunny           72        95  False   no\n",
       "8      sunny           69        70  False  yes\n",
       "9      rainy           75        80  False  yes\n",
       "10     sunny           75        70   True  yes\n",
       "11  overcast           72        90   True  yes\n",
       "12  overcast           81        75  False  yes\n",
       "13     rainy           71        91   True   no"
      ]
     },
     "metadata": {},
     "output_type": "display_data"
    },
    {
     "name": "stdout",
     "output_type": "stream",
     "text": [
      "Train:\n"
     ]
    },
    {
     "data": {
      "text/html": [
       "<div>\n",
       "<style scoped>\n",
       "    .dataframe tbody tr th:only-of-type {\n",
       "        vertical-align: middle;\n",
       "    }\n",
       "\n",
       "    .dataframe tbody tr th {\n",
       "        vertical-align: top;\n",
       "    }\n",
       "\n",
       "    .dataframe thead th {\n",
       "        text-align: right;\n",
       "    }\n",
       "</style>\n",
       "<table border=\"1\" class=\"dataframe\">\n",
       "  <thead>\n",
       "    <tr style=\"text-align: right;\">\n",
       "      <th></th>\n",
       "      <th>_overcast</th>\n",
       "      <th>_rainy</th>\n",
       "      <th>_sunny</th>\n",
       "      <th>_windy</th>\n",
       "      <th>z_temperature</th>\n",
       "      <th>z_humidity</th>\n",
       "    </tr>\n",
       "  </thead>\n",
       "  <tbody>\n",
       "    <tr>\n",
       "      <th>8</th>\n",
       "      <td>0</td>\n",
       "      <td>0</td>\n",
       "      <td>1</td>\n",
       "      <td>0</td>\n",
       "      <td>-0.721886</td>\n",
       "      <td>-1.174731</td>\n",
       "    </tr>\n",
       "    <tr>\n",
       "      <th>6</th>\n",
       "      <td>1</td>\n",
       "      <td>0</td>\n",
       "      <td>0</td>\n",
       "      <td>1</td>\n",
       "      <td>-1.511449</td>\n",
       "      <td>-1.679217</td>\n",
       "    </tr>\n",
       "    <tr>\n",
       "      <th>3</th>\n",
       "      <td>0</td>\n",
       "      <td>1</td>\n",
       "      <td>0</td>\n",
       "      <td>0</td>\n",
       "      <td>-0.563974</td>\n",
       "      <td>1.448595</td>\n",
       "    </tr>\n",
       "    <tr>\n",
       "      <th>13</th>\n",
       "      <td>0</td>\n",
       "      <td>1</td>\n",
       "      <td>0</td>\n",
       "      <td>1</td>\n",
       "      <td>-0.406061</td>\n",
       "      <td>0.944109</td>\n",
       "    </tr>\n",
       "    <tr>\n",
       "      <th>0</th>\n",
       "      <td>0</td>\n",
       "      <td>0</td>\n",
       "      <td>1</td>\n",
       "      <td>0</td>\n",
       "      <td>1.804715</td>\n",
       "      <td>0.338726</td>\n",
       "    </tr>\n",
       "    <tr>\n",
       "      <th>9</th>\n",
       "      <td>0</td>\n",
       "      <td>1</td>\n",
       "      <td>0</td>\n",
       "      <td>0</td>\n",
       "      <td>0.225589</td>\n",
       "      <td>-0.165760</td>\n",
       "    </tr>\n",
       "    <tr>\n",
       "      <th>5</th>\n",
       "      <td>0</td>\n",
       "      <td>1</td>\n",
       "      <td>0</td>\n",
       "      <td>1</td>\n",
       "      <td>-1.353537</td>\n",
       "      <td>-1.174731</td>\n",
       "    </tr>\n",
       "    <tr>\n",
       "      <th>7</th>\n",
       "      <td>0</td>\n",
       "      <td>0</td>\n",
       "      <td>1</td>\n",
       "      <td>0</td>\n",
       "      <td>-0.248148</td>\n",
       "      <td>1.347697</td>\n",
       "    </tr>\n",
       "    <tr>\n",
       "      <th>4</th>\n",
       "      <td>0</td>\n",
       "      <td>1</td>\n",
       "      <td>0</td>\n",
       "      <td>0</td>\n",
       "      <td>-0.879799</td>\n",
       "      <td>-0.165760</td>\n",
       "    </tr>\n",
       "    <tr>\n",
       "      <th>1</th>\n",
       "      <td>0</td>\n",
       "      <td>0</td>\n",
       "      <td>1</td>\n",
       "      <td>1</td>\n",
       "      <td>1.015152</td>\n",
       "      <td>0.843212</td>\n",
       "    </tr>\n",
       "    <tr>\n",
       "      <th>11</th>\n",
       "      <td>1</td>\n",
       "      <td>0</td>\n",
       "      <td>0</td>\n",
       "      <td>1</td>\n",
       "      <td>-0.248148</td>\n",
       "      <td>0.843212</td>\n",
       "    </tr>\n",
       "  </tbody>\n",
       "</table>\n",
       "</div>"
      ],
      "text/plain": [
       "    _overcast  _rainy  _sunny  _windy  z_temperature  z_humidity\n",
       "8           0       0       1       0      -0.721886   -1.174731\n",
       "6           1       0       0       1      -1.511449   -1.679217\n",
       "3           0       1       0       0      -0.563974    1.448595\n",
       "13          0       1       0       1      -0.406061    0.944109\n",
       "0           0       0       1       0       1.804715    0.338726\n",
       "9           0       1       0       0       0.225589   -0.165760\n",
       "5           0       1       0       1      -1.353537   -1.174731\n",
       "7           0       0       1       0      -0.248148    1.347697\n",
       "4           0       1       0       0      -0.879799   -0.165760\n",
       "1           0       0       1       1       1.015152    0.843212\n",
       "11          1       0       0       1      -0.248148    0.843212"
      ]
     },
     "metadata": {},
     "output_type": "display_data"
    },
    {
     "data": {
      "text/plain": [
       "array([1, 1, 1, 0, 0, 1, 0, 0, 1, 0, 1])"
      ]
     },
     "metadata": {},
     "output_type": "display_data"
    },
    {
     "name": "stdout",
     "output_type": "stream",
     "text": [
      "Validation:\n"
     ]
    },
    {
     "data": {
      "text/html": [
       "<div>\n",
       "<style scoped>\n",
       "    .dataframe tbody tr th:only-of-type {\n",
       "        vertical-align: middle;\n",
       "    }\n",
       "\n",
       "    .dataframe tbody tr th {\n",
       "        vertical-align: top;\n",
       "    }\n",
       "\n",
       "    .dataframe thead th {\n",
       "        text-align: right;\n",
       "    }\n",
       "</style>\n",
       "<table border=\"1\" class=\"dataframe\">\n",
       "  <thead>\n",
       "    <tr style=\"text-align: right;\">\n",
       "      <th></th>\n",
       "      <th>_overcast</th>\n",
       "      <th>_rainy</th>\n",
       "      <th>_sunny</th>\n",
       "      <th>_windy</th>\n",
       "      <th>z_temperature</th>\n",
       "      <th>z_humidity</th>\n",
       "    </tr>\n",
       "  </thead>\n",
       "  <tbody>\n",
       "    <tr>\n",
       "      <th>2</th>\n",
       "      <td>1</td>\n",
       "      <td>0</td>\n",
       "      <td>0</td>\n",
       "      <td>0</td>\n",
       "      <td>1.48889</td>\n",
       "      <td>0.439623</td>\n",
       "    </tr>\n",
       "  </tbody>\n",
       "</table>\n",
       "</div>"
      ],
      "text/plain": [
       "   _overcast  _rainy  _sunny  _windy  z_temperature  z_humidity\n",
       "2          1       0       0       0        1.48889    0.439623"
      ]
     },
     "metadata": {},
     "output_type": "display_data"
    },
    {
     "data": {
      "text/plain": [
       "array([1])"
      ]
     },
     "metadata": {},
     "output_type": "display_data"
    },
    {
     "name": "stdout",
     "output_type": "stream",
     "text": [
      "Test:\n"
     ]
    },
    {
     "data": {
      "text/html": [
       "<div>\n",
       "<style scoped>\n",
       "    .dataframe tbody tr th:only-of-type {\n",
       "        vertical-align: middle;\n",
       "    }\n",
       "\n",
       "    .dataframe tbody tr th {\n",
       "        vertical-align: top;\n",
       "    }\n",
       "\n",
       "    .dataframe thead th {\n",
       "        text-align: right;\n",
       "    }\n",
       "</style>\n",
       "<table border=\"1\" class=\"dataframe\">\n",
       "  <thead>\n",
       "    <tr style=\"text-align: right;\">\n",
       "      <th></th>\n",
       "      <th>_overcast</th>\n",
       "      <th>_rainy</th>\n",
       "      <th>_sunny</th>\n",
       "      <th>_windy</th>\n",
       "      <th>z_temperature</th>\n",
       "      <th>z_humidity</th>\n",
       "    </tr>\n",
       "  </thead>\n",
       "  <tbody>\n",
       "    <tr>\n",
       "      <th>12</th>\n",
       "      <td>1</td>\n",
       "      <td>0</td>\n",
       "      <td>0</td>\n",
       "      <td>0</td>\n",
       "      <td>1.173065</td>\n",
       "      <td>-0.670245</td>\n",
       "    </tr>\n",
       "    <tr>\n",
       "      <th>10</th>\n",
       "      <td>0</td>\n",
       "      <td>0</td>\n",
       "      <td>1</td>\n",
       "      <td>1</td>\n",
       "      <td>0.225589</td>\n",
       "      <td>-1.174731</td>\n",
       "    </tr>\n",
       "  </tbody>\n",
       "</table>\n",
       "</div>"
      ],
      "text/plain": [
       "    _overcast  _rainy  _sunny  _windy  z_temperature  z_humidity\n",
       "12          1       0       0       0       1.173065   -0.670245\n",
       "10          0       0       1       1       0.225589   -1.174731"
      ]
     },
     "metadata": {},
     "output_type": "display_data"
    },
    {
     "data": {
      "text/plain": [
       "array([1, 1])"
      ]
     },
     "metadata": {},
     "output_type": "display_data"
    },
    {
     "name": "stdout",
     "output_type": "stream",
     "text": [
      "['overcast', 'rainy', 'sunny'] {False: 0, True: 1} {'no': 0, 'yes': 1}\n"
     ]
    }
   ],
   "source": [
    "# Load Data\n",
    "# df = pd.read_csv(\"iris.txt\", header=None)\n",
    "df = pd.read_csv(\"weather.txt\")\n",
    "print(\"Raw:\"); display(df)\n",
    "\n",
    "# Preprocess\n",
    "df, values_outlook = onehot_encode(df, \"outlook\")\n",
    "df, dict_windy = label_encode(df, \"windy\")\n",
    "df, dict_play = label_encode(df, \"play\")\n",
    "df, mean_temp, std_temp = zscore_encode(df, \"temperature\")\n",
    "df, mean_hum, std_hum = zscore_encode(df, \"humidity\")\n",
    "del df[\"outlook\"], df[\"windy\"], df[\"play\"] , df[\"temperature\"], df[\"humidity\"]\n",
    "\n",
    "# Split Data 80/10/10\n",
    "train_df, validation_df, test_df = np.split(df.sample(frac=1), [int(.8*len(df)), int(.9*len(df))])\n",
    "train_labels = train_df[\"_play\"].values\n",
    "validation_labels = validation_df[\"_play\"].values\n",
    "test_labels = test_df[\"_play\"].values\n",
    "del train_df[\"_play\"], validation_df[\"_play\"], test_df[\"_play\"]\n",
    "# train_labels = train_df[4].values\n",
    "# validation_labels = validation_df[4].values\n",
    "# test_labels = test_df[4].values\n",
    "# del train_df[4], validation_df[4], test_df[4]\n",
    "print(\"Train:\"); display(train_df); display(train_labels)\n",
    "print(\"Validation:\"); display(validation_df); display(validation_labels)\n",
    "print(\"Test:\"); display(test_df); display(test_labels)\n",
    "\n",
    "print(values_outlook, dict_windy, dict_play)"
   ]
  },
  {
   "cell_type": "markdown",
   "metadata": {},
   "source": [
    "# Classifiers"
   ]
  },
  {
   "cell_type": "markdown",
   "metadata": {},
   "source": [
    "## Backpropagation"
   ]
  },
  {
   "cell_type": "code",
   "execution_count": 28,
   "metadata": {},
   "outputs": [],
   "source": [
    "\n",
    "class NNClassifier:\n",
    "    def __init__(self, n_nodes=[], lrate=0.05, momentum=0, batch_size=1, max_iter=100):\n",
    "        # Checking parameter input\n",
    "        if (len(n_nodes) > self.__MAX_HIDDEN):\n",
    "            raise ValueError('Number of hidden layers cannot be greater than {}'.format(self.__MAX_HIDDEN))\n",
    "\n",
    "        if (not all(x > 0 for x in n_nodes)):\n",
    "            raise ValueError('Number of nodes in a layer cannot be nonpositive')\n",
    "\n",
    "        if (batch_size <= 0):\n",
    "            raise ValueError('Batch size cannot be nonpositive')\n",
    "\n",
    "        # Setting parameter\n",
    "        self.n_nodes = n_nodes\n",
    "        self.n_hiddens = len(n_nodes)\n",
    "        self.lrate = lrate\n",
    "        self.momentum = momentum\n",
    "        self.batch_size = batch_size\n",
    "        self.max_iter = max_iter\n",
    "        self.weights = []\n",
    "        self.prev_weights = []\n",
    "\n",
    "    @property\n",
    "    def __MAX_HIDDEN(self):\n",
    "        return 10\n",
    "\n",
    "    def __stochastic_gradient_descend(self, data, target):\n",
    "        # Initialize error\n",
    "        new_weights = deepcopy(self.weights)\n",
    "        for i in range(len(new_weights)):\n",
    "            for j in range(len(new_weights[i])):\n",
    "                for k in range(len(new_weights[i][j])):\n",
    "                    new_weights[i][j][k] = 0;\n",
    "                    \n",
    "        for x, y in zip(data, target):\n",
    "            x = np.append(x, 1.)\n",
    "            values_layers = self.__feed_forward(x)\n",
    "            errors_layers = self.__backward_prop(y, values_layers)\n",
    "            values_layers.insert(0, x)\n",
    "\n",
    "            # Store weight\n",
    "            for ilayer, (weights_per_layer, prev_weights_per_layer) in enumerate(zip(self.weights, self.prev_weights)):\n",
    "                for inode, (weight_all, prev_weight_all) in enumerate(zip(weights_per_layer, prev_weights_per_layer)):\n",
    "                    for iweight, (weight, prev_weight) in enumerate(zip(weight_all, prev_weight_all)):\n",
    "                        new_weights[ilayer][inode][iweight] += self.__calculate_weight(prev_weight, \n",
    "                            values_layers[ilayer][inode], errors_layers[ilayer][iweight])\n",
    "                \n",
    "        # Update\n",
    "        prev_weights = new_weights\n",
    "        for i in range(len(new_weights)):\n",
    "            for j in range(len(new_weights[i])):\n",
    "                for k in range(len(new_weights[i][j])):\n",
    "                    self.weights[i][j][k] += new_weights[i][j][k]\n",
    "    \n",
    "    def __feed_forward(self, x):\n",
    "        outputs = [x]\n",
    "        for weight in self.weights:\n",
    "            outputs.append(self.__sigmoid(outputs[-1] @ weight))\n",
    "        del outputs[0]\n",
    "        return outputs\n",
    "    \n",
    "    def __sigmoid(self, x):\n",
    "        return 1 / (1 + np.exp(-x))\n",
    "\n",
    "    def __backward_prop(self, target, values_layers):\n",
    "        n_hiddens_out_layers = len(values_layers)\n",
    "        errors_layers = [None] * n_hiddens_out_layers\n",
    "        for i in range(n_hiddens_out_layers-1, 0-1, -1):\n",
    "            errors = []\n",
    "            if i < n_hiddens_out_layers-1: # (hidden layer)\n",
    "                for inode, output in enumerate(values_layers[i]):\n",
    "                    errors.append(self.__hidden_error(output, inode, i, errors_layers))\n",
    "            else: # i == n_hiddens_out_layers-1 (output layer)\n",
    "                for output in values_layers[i]:\n",
    "                    errors.append(self.__output_error(output, target))\n",
    "            errors_layers[i] = np.array(errors)\n",
    "        return errors_layers\n",
    "\n",
    "    def __output_error(self, output, target):\n",
    "        return output * (1 - output) * (target - output)\n",
    "    \n",
    "    def __hidden_error(self, output, inode, index_layer, errors_layers):\n",
    "        index_delta = index_layer + 1\n",
    "        index_weight = index_layer + 1\n",
    "        sigma = 0\n",
    "        for i in range(0, len(self.weights[index_weight][inode])):\n",
    "            # takut salah indexnya\n",
    "            sigma += self.weights[index_weight][inode][i] * errors_layers[index_delta][i]\n",
    "        return output * (1 - output) * sigma\n",
    "\n",
    "    def __calculate_weight(self, weight, prev_weight, err, val):\n",
    "        return weight + self.momentum * prev_weight + self.lrate * err * val\n",
    "\n",
    "    def fit(self, data, target):\n",
    "        self.__initialize_weights(data)\n",
    "\n",
    "        for _ in range(self.max_iter):\n",
    "            # Random shuffle data and target simultaneously\n",
    "            p = np.random.permutation(data.shape[0])\n",
    "            data, target = data[p], target[p]\n",
    "\n",
    "            # Do gradient descent per batch\n",
    "            for i in range(0, data.shape[0], self.batch_size):\n",
    "                index = list(range(i, i+self.batch_size))\n",
    "                self.__stochastic_gradient_descend(data[index], target[index])\n",
    "            \n",
    "        return self\n",
    "\n",
    "    def __initialize_weights(self, data):\n",
    "        # Initialize weights with random numbers\n",
    "        n_features = data.shape[1]\n",
    "        if (self.n_hiddens > 0):\n",
    "            self.weights = [np.random.randn(n_features + 1, self.n_nodes[0])]\n",
    "            for i in range(1, self.n_hiddens):\n",
    "                self.weights.append(np.random.randn(self.n_nodes[i-1], self.n_nodes[i]))\n",
    "            self.weights.append(np.random.randn(self.n_nodes[self.n_hiddens - 1], 1))\n",
    "        else:\n",
    "            self.weights = [np.random.randn(n_features + 1, 1)]\n",
    "        \n",
    "        # Assume first prev_weights be zeroes\n",
    "        self.prev_weights = deepcopy(self.weights)\n",
    "                    \n",
    "    def predict(self, data):\n",
    "        result = [self.__feed_forward(np.append(d, 1.))[-1][0] for d in data]\n",
    "        return [1 if r >= 0.5 else 0 for r in result]"
   ]
  },
  {
   "cell_type": "markdown",
   "metadata": {},
   "source": [
    "## Keras"
   ]
  },
  {
   "cell_type": "code",
   "execution_count": 79,
   "metadata": {},
   "outputs": [],
   "source": [
    "class NNKeras():\n",
    "    def __init__(self, nnodes_per_hidden_layer=[100], lrate=0.05, momentum=0, batch_size=1):\n",
    "        self.nnodes_per_hidden_layer = nnodes_per_hidden_layer\n",
    "        self.lrate = lrate\n",
    "        self.momentum = momentum\n",
    "        self.batch_size = batch_size\n",
    "    \n",
    "    def fit(self, data, labels, epochs=1):\n",
    "        \"\"\"data: ndarray\"\"\"\n",
    "        n_rows = len(data)\n",
    "        n_attr = len(data[n_rows-1])\n",
    "        self.model = Sequential()\n",
    "        # First Hidden Layer\n",
    "        self.model.add(Dense(units=self.nnodes_per_hidden_layer[0], activation='sigmoid', input_dim=n_attr))\n",
    "        # 2nd .. Last Hidden Layer\n",
    "        for i in range(1, len(self.nnodes_per_hidden_layer)):\n",
    "            self.model.add(Dense(units=self.nnodes_per_hidden_layer[i], activation='sigmoid'))\n",
    "        # Output Layer\n",
    "        self.model.add(Dense(units=1, activation='sigmoid'))\n",
    "        \n",
    "        sgd = optimizers.SGD(lr=self.lrate, momentum=self.momentum)\n",
    "        self.model.compile(optimizer=sgd, loss='mean_squared_error')\n",
    "        self.model.fit(data, labels, batch_size=self.batch_size, epochs=epochs, verbose=0)\n",
    "        return self\n",
    "\n",
    "    def evaluate(self, test_data, test_labels):\n",
    "        return self.model.evaluate(test_data, test_labels, batch_size=self.batch_size)\n",
    "\n",
    "    def predict(self, sample):\n",
    "        return self.model.predict_classes(sample, batch_size=self.batch_size)"
   ]
  },
  {
   "cell_type": "markdown",
   "metadata": {},
   "source": [
    "# Training (Hold-Out)"
   ]
  },
  {
   "cell_type": "markdown",
   "metadata": {},
   "source": [
    "## Feed Forward Neural Network"
   ]
  },
  {
   "cell_type": "code",
   "execution_count": 30,
   "metadata": {},
   "outputs": [
    {
     "name": "stdout",
     "output_type": "stream",
     "text": [
      "Test with train data:\n",
      "  Predicted [1, 1, 1, 0, 0, 1, 1, 0, 1, 0, 0]\n",
      "  Expected [1 1 1 0 0 1 1 0 1 0 0]\n",
      "Test with validation data:\n",
      "  Predicted [1]\n",
      "  Expected [1]\n"
     ]
    }
   ],
   "source": [
    "# Evaluate with validation data\n",
    "model_nn = NNClassifier(n_nodes=[20,10], lrate=0.1, momentum=0.1, batch_size=1, max_iter=450).fit(\n",
    "    train_df.values, train_labels)\n",
    "\n",
    "print(\"Test with train data:\")\n",
    "print(\"  Predicted\", model_nn.predict(train_df.values))\n",
    "print(\"  Expected\", train_labels)\n",
    "print(\"Test with validation data:\")\n",
    "print(\"  Predicted\", model_nn.predict(validation_df.values))\n",
    "print(\"  Expected\", validation_labels)"
   ]
  },
  {
   "cell_type": "markdown",
   "metadata": {},
   "source": [
    "## Keras"
   ]
  },
  {
   "cell_type": "code",
   "execution_count": 20,
   "metadata": {},
   "outputs": [
    {
     "name": "stdout",
     "output_type": "stream",
     "text": [
      "Test with train data:\n",
      "  Predicted [[1], [1], [1], [0], [0], [1], [1], [0], [1], [0], [0]]\n",
      "  Expected [1 1 1 0 0 1 1 0 1 0 0]\n",
      "Test with validation data:\n",
      "  Predicted [[1]]\n",
      "  Expected [1]\n"
     ]
    }
   ],
   "source": [
    "# Evaluate with validation data\n",
    "model_keras = NNKeras(nnodes_per_hidden_layer=[20,10], lrate=0.1, momentum=0.1, batch_size=1).fit(\n",
    "    train_df.values, train_labels, epochs=450)\n",
    "print(\"Test with train data:\")\n",
    "print(\"  Predicted\", model_keras.predict(train_df.values).tolist())\n",
    "print(\"  Expected\", train_labels)\n",
    "print(\"Test with validation data:\")\n",
    "print(\"  Predicted\", model_keras.predict(validation_df.values).tolist())\n",
    "print(\"  Expected\", validation_labels)"
   ]
  },
  {
   "cell_type": "markdown",
   "metadata": {},
   "source": [
    "# Evaluation using test data"
   ]
  },
  {
   "cell_type": "code",
   "execution_count": 22,
   "metadata": {},
   "outputs": [],
   "source": [
    "# merge train and validation data\n",
    "train_validation_df = pd.concat([train_df, validation_df])\n",
    "train_validation_labels = np.concatenate((train_labels, validation_labels))"
   ]
  },
  {
   "cell_type": "markdown",
   "metadata": {},
   "source": [
    "## Backpropagation"
   ]
  },
  {
   "cell_type": "code",
   "execution_count": 31,
   "metadata": {},
   "outputs": [
    {
     "name": "stdout",
     "output_type": "stream",
     "text": [
      "Test with train+validation data:\n",
      "  Predicted [1, 1, 1, 0, 0, 1, 1, 0, 1, 0, 0, 1]\n",
      "  Expected [1 1 1 0 0 1 1 0 1 0 0 1]\n",
      "Test with test data:\n",
      "  Predicted [1, 1]\n",
      "  Expected [1 1]\n"
     ]
    }
   ],
   "source": [
    "# Evaluate with test data\n",
    "print(\"Test with train+validation data:\")\n",
    "print(\"  Predicted\", model_nn.predict(train_validation_df.values))\n",
    "print(\"  Expected\", train_validation_labels)\n",
    "print(\"Test with test data:\")\n",
    "print(\"  Predicted\", model_nn.predict(test_df.values))\n",
    "print(\"  Expected\", test_labels)"
   ]
  },
  {
   "cell_type": "markdown",
   "metadata": {},
   "source": [
    "## Keras"
   ]
  },
  {
   "cell_type": "code",
   "execution_count": 26,
   "metadata": {},
   "outputs": [
    {
     "name": "stdout",
     "output_type": "stream",
     "text": [
      "Test with train+validation data:\n",
      "  Predicted [[1], [1], [1], [1], [0], [1], [1], [0], [1], [0], [0], [1]]\n",
      "  Expected [1 1 1 0 0 1 1 0 1 0 0 1]\n",
      "Test with test data:\n",
      "  Predicted [[1], [1]]\n",
      "  Expected [1 1]\n"
     ]
    }
   ],
   "source": [
    "# Evaluate with test data\n",
    "model_keras = NNKeras(nnodes_per_hidden_layer=[20,10], lrate=0.1, momentum=0.1, batch_size=1).fit(\n",
    "    train_validation_df.values, train_validation_labels, epochs=450)\n",
    "print(\"Test with train+validation data:\")\n",
    "print(\"  Predicted\", model_keras.predict(train_validation_df.values).tolist())\n",
    "print(\"  Expected\", train_validation_labels)\n",
    "print(\"Test with test data:\")\n",
    "print(\"  Predicted\", model_keras.predict(test_df.values).tolist())\n",
    "print(\"  Expected\", test_labels)"
   ]
  }
 ],
 "metadata": {
  "kernelspec": {
   "display_name": "Python 3",
   "language": "python",
   "name": "python3"
  },
  "language_info": {
   "codemirror_mode": {
    "name": "ipython",
    "version": 3
   },
   "file_extension": ".py",
   "mimetype": "text/x-python",
   "name": "python",
   "nbconvert_exporter": "python",
   "pygments_lexer": "ipython3",
   "version": "3.6.5"
  }
 },
 "nbformat": 4,
 "nbformat_minor": 2
}
